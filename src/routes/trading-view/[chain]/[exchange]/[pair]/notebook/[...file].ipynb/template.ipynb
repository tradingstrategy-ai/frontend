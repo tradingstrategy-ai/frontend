{
 "cells": [
  {
   "cell_type": "markdown",
   "metadata": {},
   "source": [
    "# Trading Pair Analysis & Backtesting\n",
    "\n",
    "This is a basic notebook that can be used for performing technical analysis and backtesting for a single trading pair.\n",
    "\n",
    "## Initialize API Client\n",
    "\n",
    "Enter your API key in the second line below, then run the cell in order to verify you have configired it correctly."
   ]
  },
  {
   "cell_type": "code",
   "execution_count": null,
   "metadata": {},
   "outputs": [],
   "source": [
    "from tradingstrategy.client import Client\n",
    "\n",
    "api_key = 'secret-token:tradingstrategy-YOUR-API-KEY-HERE'\n",
    "\n",
    "client = Client.create_jupyter_client(api_key=api_key)"
   ]
  },
  {
   "cell_type": "markdown",
   "metadata": {},
   "source": [
    "## Configure Trading Pair variables\n",
    "\n",
    "The values below must be configured correctly in order to perform analysis on a trading pair."
   ]
  },
  {
   "cell_type": "code",
   "execution_count": null,
   "metadata": {},
   "outputs": [],
   "source": [
    "chain_slug = '%chain_slug%'\n",
    "exchange_slug = '%exchange_slug%'\n",
    "pair_slug = '%pair_slug%'\n",
    "\n",
    "print(chain_slug, exchange_slug, pair_slug)"
   ]
  }
 ],
 "metadata": {
  "kernelspec": {
   "display_name": "Python 3.10.6 ('trading-strategy-AwkJE5xA-py3.10')",
   "language": "python",
   "name": "python3"
  },
  "language_info": {
   "codemirror_mode": {
    "name": "ipython",
    "version": 3
   },
   "file_extension": ".py",
   "mimetype": "text/x-python",
   "name": "python",
   "nbconvert_exporter": "python",
   "pygments_lexer": "ipython3",
   "version": "3.10.6"
  },
  "orig_nbformat": 4,
  "vscode": {
   "interpreter": {
    "hash": "836a178a3af65d04cd4756f12aba4ed8578c36caff7b414844f1345f102e53f2"
   }
  }
 },
 "nbformat": 4,
 "nbformat_minor": 2
}
